{
  "nbformat": 4,
  "nbformat_minor": 0,
  "metadata": {
    "colab": {
      "name": "Terraria.ipynb",
      "private_outputs": true,
      "provenance": [],
      "collapsed_sections": []
    },
    "kernelspec": {
      "name": "python3",
      "display_name": "Python 3"
    }
  },
  "cells": [
    {
      "cell_type": "code",
      "metadata": {
        "id": "06CK53JxZUS-",
        "cellView": "form"
      },
      "source": [
        "#@title **INIT SERVER**\n",
        "world_path = '/content/drive/MyDrive/Terraria' #@param {type:\"string\"}\n",
        "ngrok_region = \"ap\" #@param [\"ap\", \"us\", \"eu\", \"au\", \"sa\", \"jp\", \"in\"]\n",
        "ngrok_token = '' #@param {type:\"string\"}\n",
        "#@markdown > *world_path is a google drive directory path for saved world*\n",
        "#@markdown > <br>**note: always start server in port 7777**\n",
        "\n",
        "from google.colab import output, drive\n",
        "import os, multiprocessing, time\n",
        "\n",
        "terraria_path = '~/.local/share/Terraria/Worlds'\n",
        "\n",
        "def first_init():\n",
        "    !/content/1412/Linux/TerrariaServer.bin.x86_64\n",
        "\n",
        "def init():\n",
        "    # Initiation\n",
        "    drive.mount('/content/drive')\n",
        "    if os.path.isdir('/content/sample_data'):\n",
        "        !rm -r '/content/sample_data'\n",
        "    if not os.path.isdir('/content/1412'):\n",
        "        !sudo apt update && sudo apt install -y wget tmux unzip\n",
        "        !wget 'https://terraria.org/system/dedicated_servers/archives/000/000/042/original/terraria-server-1412.zip'\n",
        "        !unzip '/content/terraria-server-1412.zip'\n",
        "        !cd '/content/1412/Linux'\n",
        "        !sudo chmod +x '/content/1412/Linux/TerrariaServer.bin.x86_64'\n",
        "    output.clear()\n",
        "    print('Initiation done')\n",
        "    # First run\n",
        "    thread = multiprocessing.Process(target=first_init)\n",
        "    thread.start()\n",
        "    thread.join(5)\n",
        "    if thread.is_alive():\n",
        "        thread.terminate()\n",
        "        thread.join()\n",
        "    print('First init done')\n",
        "    time.sleep(1)\n",
        "    # Mount save directory\n",
        "    !mount --bind {world_path} {terraria_path}\n",
        "    print('Linking world completed')\n",
        "    # Start ngrok\n",
        "    if not os.path.isfile('/content/ngrok'):\n",
        "        !wget -q -c -nc https://bin.equinox.io/c/4VmDzA7iaHb/ngrok-stable-linux-amd64.zip\n",
        "        !unzip -qq -n ngrok-stable-linux-amd64.zip\n",
        "    get_ipython().system_raw('./ngrok authtoken $ngrok_token && ./ngrok tcp 7777 -region $ngrok_region &')\n",
        "    print('Done. Go to https://dashboard.ngrok.com/endpoints/status to get your ip')\n",
        "\n",
        "\n",
        "init()\n"
      ],
      "execution_count": null,
      "outputs": []
    },
    {
      "cell_type": "code",
      "metadata": {
        "cellView": "form",
        "id": "UrUpG_0-05D1"
      },
      "source": [
        "#@title **START SERVER**\r\n",
        "!/content/1412/Linux/TerrariaServer.bin.x86_64\r\n"
      ],
      "execution_count": null,
      "outputs": []
    },
    {
      "cell_type": "code",
      "metadata": {
        "cellView": "form",
        "id": "1e2zINT31l2g"
      },
      "source": [
        "#@title **START SERVER THROUGH SSH (OPTIONAL)**\r\n",
        "ssh_password = \"axinan\" #@param {type:\"string\"}\r\n",
        "#@markdown > *connect to ssh by your cmd or terminal and run this code*\r\n",
        "#@markdown > <br>```/content/1412/Linux/TerrariaServer.bin.x86_64```\r\n",
        "!pip install colab_ssh --upgrade\r\n",
        "\r\n",
        "from colab_ssh import launch_ssh_cloudflared, init_git_cloudflared\r\n",
        "launch_ssh_cloudflared(password=ssh_password)\r\n"
      ],
      "execution_count": null,
      "outputs": []
    }
  ]
}